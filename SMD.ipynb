{
  "nbformat": 4,
  "nbformat_minor": 0,
  "metadata": {
    "colab": {
      "provenance": [],
      "private_outputs": true,
      "authorship_tag": "ABX9TyNtYLo7IwDumvWYLrPpDT6h",
      "include_colab_link": true
    },
    "kernelspec": {
      "name": "python3",
      "display_name": "Python 3"
    },
    "language_info": {
      "name": "python"
    },
    "gpuClass": "standard"
  },
  "cells": [
    {
      "cell_type": "markdown",
      "metadata": {
        "id": "view-in-github",
        "colab_type": "text"
      },
      "source": [
        "<a href=\"https://colab.research.google.com/github/RohitBhattacharyya/spam-mail-detector/blob/main/SMD.ipynb\" target=\"_parent\"><img src=\"https://colab.research.google.com/assets/colab-badge.svg\" alt=\"Open In Colab\"/></a>"
      ]
    },
    {
      "cell_type": "code",
      "execution_count": null,
      "metadata": {
        "id": "7OwOrWHgpK9i"
      },
      "outputs": [],
      "source": [
        "#TODO: Spam mail detector\n",
        "#Description: If the mail is not spam, it returns False"
      ]
    },
    {
      "cell_type": "code",
      "source": [
        "# auto setup\n",
        "import os\n",
        "\n",
        "pkgs = {\n",
        "    'numpy': 'numpy',\n",
        "    'pandas': 'pandas',\n",
        "    'nltk': 'nltk',\n",
        "    'string': 'string'\n",
        "}\n",
        "\n",
        "\n",
        "for pkg in pkgs.keys ():\n",
        "    try:\n",
        "        exec (f'import {pkg}')\n",
        "\n",
        "    except ImportError:\n",
        "        os.system (f'pip install {pkgs [pkg]}')\n",
        "\n",
        "print (\"it's all good to go !\")"
      ],
      "metadata": {
        "id": "oZb979TCA5k4"
      },
      "execution_count": null,
      "outputs": []
    },
    {
      "cell_type": "code",
      "source": [
        "# Importing some libraries (Global)\n",
        "import numpy as np\n",
        "import pandas as pd\n",
        "import nltk\n",
        "from nltk.corpus import stopwords\n",
        "import string"
      ],
      "metadata": {
        "id": "21ypBgZWw1m-"
      },
      "execution_count": null,
      "outputs": []
    },
    {
      "cell_type": "code",
      "source": [
        "# Load Data\n",
        "from google.colab import files\n",
        "uploaded = files.upload ()"
      ],
      "metadata": {
        "id": "bhAI3pV3x6j4"
      },
      "execution_count": null,
      "outputs": []
    },
    {
      "cell_type": "code",
      "source": [
        "# show if the file is there or not\n",
        "import os\n",
        "\n",
        "mainDir = os.path.dirname (os.path.abspath ('SMD.ipynb'))\n",
        "\n",
        "lDir = os.listdir (mainDir)\n",
        "print (lDir)"
      ],
      "metadata": {
        "id": "gBzFBLaAeqCh"
      },
      "execution_count": null,
      "outputs": []
    },
    {
      "cell_type": "code",
      "source": [
        "# find csv file\n",
        "\n",
        "CSVs = []\n",
        "\n",
        "for f in lDir:\n",
        "    if '.csv' in f:\n",
        "        CSVs.append (f)\n",
        "\n",
        "wCSV = CSVs [0]\n",
        "print (wCSV)"
      ],
      "metadata": {
        "id": "ZxAUJQhphQKu"
      },
      "execution_count": null,
      "outputs": []
    },
    {
      "cell_type": "code",
      "source": [
        "for CSV in CSVs [1::]:\n",
        "    cmd = f'rm -f {CSV}'\n",
        "    X = input (f'Do you want to remove {CSV} [Y/n]: ').lower ()\n",
        "\n",
        "    if X == '' or X == 'y':\n",
        "        os.system (cmd)\n",
        "\n",
        "    else:\n",
        "        pass"
      ],
      "metadata": {
        "id": "wJzIKnuBf_qq"
      },
      "execution_count": null,
      "outputs": []
    },
    {
      "cell_type": "code",
      "source": [
        "# read csv\n",
        "data_frame = pd.read_csv (wCSV)\n",
        "\n",
        "# show first 5 rows\n",
        "data_frame.head (5)"
      ],
      "metadata": {
        "id": "aG_EY40IhjCP"
      },
      "execution_count": null,
      "outputs": []
    },
    {
      "cell_type": "code",
      "source": [
        "# get shape\n",
        "Shape = data_frame.shape\n",
        "Cols = data_frame.columns\n",
        "\n",
        "print (f'Shape = {Shape}\\nNo. cols = {Shape [1]}\\nCols = {Cols}')"
      ],
      "metadata": {
        "id": "UdoGttXmkde2"
      },
      "execution_count": null,
      "outputs": []
    },
    {
      "cell_type": "code",
      "source": [
        "# check for duplicates and drop them\n",
        "data_frame.drop_duplicates (inplace = True)\n",
        "Shape"
      ],
      "metadata": {
        "id": "wRmjk8nQkrmM"
      },
      "execution_count": null,
      "outputs": []
    },
    {
      "cell_type": "code",
      "source": [
        "# check missing\n",
        "data_frame.isnull ().sum ()"
      ],
      "metadata": {
        "id": "dfJMyhVBlEHE"
      },
      "execution_count": null,
      "outputs": []
    },
    {
      "cell_type": "code",
      "source": [
        "# download `stopwords` pkg\n",
        "nltk.download ('stopwords')"
      ],
      "metadata": {
        "id": "sJWGB4jjltw0"
      },
      "execution_count": null,
      "outputs": []
    },
    {
      "cell_type": "code",
      "source": [
        "def process_mail (mail):\n",
        "    # remove [punctuation, stopwords]\n",
        "    # return list (clean_text_words)\n",
        "\n",
        "    no_punc = [chr for chr in mail if chr not in string.punctuation]\n",
        "    no_punc = ''.join (no_punc)\n",
        "\n",
        "    clean_words = [word for word in no_punc.split () if word.lower () not in stopwords.words ('english')]\n",
        "\n",
        "    return clean_words"
      ],
      "metadata": {
        "id": "LyLo86_3m7ry"
      },
      "execution_count": null,
      "outputs": []
    },
    {
      "cell_type": "code",
      "source": [
        "# show tokens\n",
        "data_frame ['Message'].head ().apply (process_mail)"
      ],
      "metadata": {
        "id": "tbfHZ_GInnCj"
      },
      "execution_count": null,
      "outputs": []
    },
    {
      "cell_type": "code",
      "source": [
        "# convert to matrix of token\n",
        "from sklearn.feature_extraction.text import CountVectorizer as CV\n",
        "\n",
        "msgs_bow = CV (analyzer = process_mail).fit_transform (data_frame ['Message'])"
      ],
      "metadata": {
        "id": "5rEA1ZbcpPP2"
      },
      "execution_count": null,
      "outputs": []
    },
    {
      "cell_type": "code",
      "source": [
        "# split data \n",
        "from sklearn.model_selection import train_test_split as tts\n",
        "\n",
        "X_train, X_test, Y_train, Y_test = tts (msgs_bow, data_frame ['Category'], test_size = 0.20, random_state = 0)"
      ],
      "metadata": {
        "id": "3rUm9htR-vce"
      },
      "execution_count": null,
      "outputs": []
    },
    {
      "cell_type": "code",
      "source": [
        "# get shape of msgs_bow\n",
        "msgs_bow.shape"
      ],
      "metadata": {
        "id": "GPhSirFl_myG"
      },
      "execution_count": null,
      "outputs": []
    },
    {
      "cell_type": "code",
      "source": [
        "# create and train classifire\n",
        "from sklearn.naive_bayes import MultinomialNB as MNB\n",
        "\n",
        "classifier = MNB ().fit (X_train, Y_train)"
      ],
      "metadata": {
        "id": "tSPFlEGN_90Y"
      },
      "execution_count": null,
      "outputs": []
    },
    {
      "cell_type": "code",
      "source": [
        "# show predictions\n",
        "print (classifier.predict (X_train))\n",
        "\n",
        "# show actual values\n",
        "print (Y_train.values)"
      ],
      "metadata": {
        "id": "dTwGSxbWCP-7"
      },
      "execution_count": null,
      "outputs": []
    },
    {
      "cell_type": "code",
      "source": [
        "# eval on train\n",
        "from sklearn.metrics import classification_report as CR, confusion_matrix as CM, accuracy_score as AS\n",
        "\n",
        "prd = classifier.predict (X_train)\n",
        "print (CR (Y_train, prd))\n",
        "\n",
        "print ()\n",
        "\n",
        "print (f'Confussion Matrix: \\n{CM (Y_train, prd)}')\n",
        "\n",
        "print ()\n",
        "\n",
        "print (f'Accuracy: {round (AS (Y_train, prd) * 100, 2)}')\n"
      ],
      "metadata": {
        "id": "rXYJ7PtACh9p"
      },
      "execution_count": null,
      "outputs": []
    },
    {
      "cell_type": "code",
      "source": [
        "# show predictions\n",
        "print (classifier.predict (X_test))\n",
        "\n",
        "# show actual values\n",
        "print (Y_test.values)"
      ],
      "metadata": {
        "id": "lG_PBiK4ESrI"
      },
      "execution_count": null,
      "outputs": []
    },
    {
      "cell_type": "code",
      "source": [
        "# eval on test\n",
        "from sklearn.metrics import classification_report as CR, confusion_matrix as CM, accuracy_score as AS\n",
        "\n",
        "prd = classifier.predict (X_test)\n",
        "print (CR (Y_test, prd))\n",
        "\n",
        "print ()\n",
        "\n",
        "print (f'Confussion Matrix: \\n{CM (Y_test, prd)}')\n",
        "\n",
        "print ()\n",
        "\n",
        "print (f'Accuracy: {round (AS (Y_test, prd) * 100, 2)}')\n"
      ],
      "metadata": {
        "id": "0EBT8MReGCI1"
      },
      "execution_count": null,
      "outputs": []
    }
  ]
}